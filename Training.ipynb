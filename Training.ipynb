{
 "cells": [
  {
   "cell_type": "code",
   "execution_count": 1,
   "metadata": {},
   "outputs": [],
   "source": [
    "import pandas as pd\n",
    "import numpy as np\n",
    "import matplotlib\n",
    "import matplotlib.pyplot as plt\n",
    "from sklearn.model_selection import train_test_split\n",
    "from sklearn.utils import shuffle\n",
    "from keras.models import Sequential\n",
    "from keras.utils import to_categorical\n",
    "from keras.layers import Dense, Flatten, Conv2D, MaxPool2D, Dropout, BatchNormalization\n",
    "from keras.optimizers import SGD, Adam\n",
    "import tensorflow\n",
    "import datetime\n",
    "import cv2 \n",
    "# from sklearn.utils import to_categorical"
   ]
  },
  {
   "cell_type": "code",
   "execution_count": 2,
   "metadata": {},
   "outputs": [
    {
     "data": {
      "text/plain": [
       "(372450, 785)"
      ]
     },
     "execution_count": 2,
     "metadata": {},
     "output_type": "execute_result"
    }
   ],
   "source": [
    "data= pd.read_csv('A_Z Handwritten Data.csv').astype('float32')\n",
    "data.shape\n",
    "# data.shape; trả về kích thước của dữ liệu\n",
    "# data.columns: Trả về số lượng cột\n",
    "#(data frame)\n",
    "#(785 cột)"
   ]
  },
  {
   "cell_type": "code",
   "execution_count": 3,
   "metadata": {},
   "outputs": [],
   "source": [
    "## Split data into images and their labels\n",
    "# moi hang la 1 ki tu voi kich thuoc 28*28\n",
    "\n",
    "# Tập X: Tap Data\n",
    "# Tap y: Tap Output\n",
    "# Ham iloc tra ve 1 dataframe\n",
    "# Ham values tra ve 1 numpy array\n",
    "X= data.iloc[:, 1:].values\n",
    "y= data.iloc[:, 0].values\n"
   ]
  },
  {
   "cell_type": "code",
   "execution_count": 4,
   "metadata": {},
   "outputs": [],
   "source": [
    "X = X/255.0"
   ]
  },
  {
   "cell_type": "code",
   "execution_count": 5,
   "metadata": {},
   "outputs": [
    {
     "name": "stdout",
     "output_type": "stream",
     "text": [
      "[[0.         0.         0.         0.         0.         0.\n",
      "  0.         0.         0.         0.         0.         0.\n",
      "  0.         0.         0.         0.         0.         0.\n",
      "  0.         0.         0.         0.         0.         0.\n",
      "  0.         0.         0.         0.        ]\n",
      " [0.         0.         0.         0.         0.         0.\n",
      "  0.         0.         0.         0.         0.         0.\n",
      "  0.         0.         0.         0.         0.         0.\n",
      "  0.         0.         0.         0.         0.         0.\n",
      "  0.         0.         0.         0.        ]\n",
      " [0.         0.         0.         0.         0.         0.\n",
      "  0.         0.         0.         0.         0.         0.\n",
      "  0.         0.         0.         0.         0.         0.\n",
      "  0.         0.         0.         0.         0.         0.\n",
      "  0.         0.         0.         0.        ]\n",
      " [0.         0.         0.         0.         0.         0.\n",
      "  0.         0.         0.         0.         0.         0.\n",
      "  0.         0.         0.         0.         0.         0.\n",
      "  0.         0.         0.         0.         0.         0.\n",
      "  0.         0.         0.         0.        ]\n",
      " [0.         0.         0.         0.         0.         0.\n",
      "  0.         0.         0.         0.         0.         0.\n",
      "  0.         0.         0.         0.         0.00784314 0.69411767\n",
      "  1.         0.7372549  0.05098039 0.         0.         0.\n",
      "  0.         0.         0.         0.        ]\n",
      " [0.         0.         0.         0.         0.         0.\n",
      "  0.         0.         0.         0.         0.         0.\n",
      "  0.         0.         0.         0.         0.50980395 1.\n",
      "  1.         1.         0.6313726  0.         0.         0.\n",
      "  0.         0.         0.         0.        ]\n",
      " [0.         0.         0.         0.         0.         0.\n",
      "  0.         0.         0.         0.         0.         0.\n",
      "  0.         0.         0.01176471 0.21568628 0.9490196  1.\n",
      "  0.9647059  1.         0.9764706  0.18039216 0.         0.\n",
      "  0.         0.         0.         0.        ]\n",
      " [0.         0.         0.         0.         0.         0.\n",
      "  0.         0.         0.         0.         0.         0.\n",
      "  0.         0.         0.54509807 1.         1.         0.7529412\n",
      "  0.4392157  1.         1.         0.85882354 0.         0.\n",
      "  0.         0.         0.         0.        ]\n",
      " [0.         0.         0.         0.         0.         0.\n",
      "  0.         0.         0.         0.         0.         0.\n",
      "  0.         0.34901962 1.         1.         1.         0.36862746\n",
      "  0.21568628 0.9764706  1.         1.         0.         0.\n",
      "  0.         0.         0.         0.        ]\n",
      " [0.         0.         0.         0.         0.         0.\n",
      "  0.         0.         0.         0.         0.         0.\n",
      "  0.22352941 0.93333334 1.         1.         0.8980392  0.15294118\n",
      "  0.30588236 0.99215686 1.         1.         0.         0.\n",
      "  0.         0.         0.         0.        ]\n",
      " [0.         0.         0.         0.         0.         0.\n",
      "  0.         0.         0.         0.         0.         0.\n",
      "  0.68235296 1.         1.         0.89411765 0.1764706  0.\n",
      "  0.         0.9490196  1.         0.68235296 0.         0.\n",
      "  0.         0.         0.         0.        ]\n",
      " [0.         0.         0.         0.         0.         0.\n",
      "  0.         0.         0.         0.         0.         0.5176471\n",
      "  0.972549   1.         0.9529412  0.4509804  0.         0.\n",
      "  0.03137255 0.9529412  1.         0.36862746 0.         0.\n",
      "  0.         0.         0.         0.        ]\n",
      " [0.         0.         0.         0.         0.         0.\n",
      "  0.         0.         0.         0.         0.09019608 0.9607843\n",
      "  1.         1.         0.80784315 0.6666667  0.1764706  0.\n",
      "  0.36862746 1.         1.         0.15686275 0.         0.\n",
      "  0.         0.         0.         0.        ]\n",
      " [0.         0.         0.         0.         0.         0.\n",
      "  0.         0.         0.         0.         0.7176471  1.\n",
      "  1.         1.         1.         1.         0.92156863 0.5686275\n",
      "  0.6313726  1.         1.         0.15686275 0.         0.\n",
      "  0.         0.         0.         0.        ]\n",
      " [0.         0.         0.         0.         0.         0.\n",
      "  0.         0.         0.         0.21176471 1.         1.\n",
      "  1.         0.7529412  0.85882354 1.         1.         1.\n",
      "  1.         1.         1.         0.15686275 0.         0.\n",
      "  0.         0.         0.         0.        ]\n",
      " [0.         0.         0.         0.         0.         0.\n",
      "  0.         0.         0.01568628 0.6509804  1.         1.\n",
      "  1.         0.2627451  0.03921569 0.2509804  0.62352943 0.8784314\n",
      "  1.         1.         0.9137255  0.10588235 0.         0.\n",
      "  0.         0.         0.         0.        ]\n",
      " [0.         0.         0.         0.         0.         0.\n",
      "  0.         0.         0.4392157  1.         1.         1.\n",
      "  0.7254902  0.01176471 0.         0.         0.         0.6313726\n",
      "  1.         0.9490196  0.19215687 0.         0.         0.\n",
      "  0.         0.         0.         0.        ]\n",
      " [0.         0.         0.         0.         0.         0.\n",
      "  0.         0.07843138 0.78039217 1.         1.         1.\n",
      "  0.31764707 0.         0.         0.         0.         0.6313726\n",
      "  1.         0.89411765 0.         0.         0.         0.\n",
      "  0.         0.         0.         0.        ]\n",
      " [0.         0.         0.         0.         0.         0.\n",
      "  0.         0.6666667  1.         1.         1.         0.9137255\n",
      "  0.05098039 0.         0.         0.         0.         0.6313726\n",
      "  1.         0.89411765 0.         0.         0.         0.\n",
      "  0.         0.         0.         0.        ]\n",
      " [0.         0.         0.         0.         0.         0.\n",
      "  0.09019608 0.8901961  1.         1.         1.         0.8235294\n",
      "  0.         0.         0.         0.         0.12156863 1.\n",
      "  1.         0.4745098  0.         0.         0.         0.\n",
      "  0.         0.         0.         0.        ]\n",
      " [0.         0.         0.         0.         0.         0.\n",
      "  0.4745098  1.         1.         1.         1.         0.15686275\n",
      "  0.         0.         0.         0.         0.7882353  1.\n",
      "  1.         0.15686275 0.         0.         0.         0.\n",
      "  0.         0.         0.         0.        ]\n",
      " [0.         0.         0.         0.         0.         0.\n",
      "  0.9647059  1.         1.         0.85882354 0.34509805 0.00392157\n",
      "  0.         0.         0.         0.02745098 0.9019608  1.\n",
      "  0.6627451  0.00392157 0.         0.         0.         0.\n",
      "  0.         0.         0.         0.        ]\n",
      " [0.         0.         0.         0.         0.         0.\n",
      "  1.         1.         0.85882354 0.12156863 0.         0.\n",
      "  0.         0.         0.         0.59607846 1.         1.\n",
      "  0.34901962 0.         0.         0.         0.         0.\n",
      "  0.         0.         0.         0.        ]\n",
      " [0.         0.         0.         0.         0.         0.\n",
      "  0.40784314 0.58431375 0.13333334 0.         0.         0.\n",
      "  0.         0.         0.         0.38431373 1.         0.9137255\n",
      "  0.12156863 0.         0.         0.         0.         0.\n",
      "  0.         0.         0.         0.        ]\n",
      " [0.         0.         0.         0.         0.         0.\n",
      "  0.         0.         0.         0.         0.         0.\n",
      "  0.         0.         0.         0.         0.         0.\n",
      "  0.         0.         0.         0.         0.         0.\n",
      "  0.         0.         0.         0.        ]\n",
      " [0.         0.         0.         0.         0.         0.\n",
      "  0.         0.         0.         0.         0.         0.\n",
      "  0.         0.         0.         0.         0.         0.\n",
      "  0.         0.         0.         0.         0.         0.\n",
      "  0.         0.         0.         0.        ]\n",
      " [0.         0.         0.         0.         0.         0.\n",
      "  0.         0.         0.         0.         0.         0.\n",
      "  0.         0.         0.         0.         0.         0.\n",
      "  0.         0.         0.         0.         0.         0.\n",
      "  0.         0.         0.         0.        ]\n",
      " [0.         0.         0.         0.         0.         0.\n",
      "  0.         0.         0.         0.         0.         0.\n",
      "  0.         0.         0.         0.         0.         0.\n",
      "  0.         0.         0.         0.         0.         0.\n",
      "  0.         0.         0.         0.        ]]\n"
     ]
    },
    {
     "data": {
      "text/plain": [
       "<matplotlib.image.AxesImage at 0x1d6d90b7650>"
      ]
     },
     "execution_count": 5,
     "metadata": {},
     "output_type": "execute_result"
    },
    {
     "data": {
      "image/png": "[encoded data removed]",
      "text/plain": [
       "<Figure size 640x480 with 1 Axes>"
      ]
     },
     "metadata": {},
     "output_type": "display_data"
    }
   ],
   "source": [
    "example = np.reshape(X[0],(28,28))\n",
    "print(example)\n",
    "plt.imshow(example,'gray')\n"
   ]
  },
  {
   "cell_type": "code",
   "execution_count": 6,
   "metadata": {},
   "outputs": [],
   "source": [
    "shuffle_order = list(range(X.shape[0]))\n",
    "shuffle_order = shuffle(shuffle_order)\n",
    "\n",
    "X = X[shuffle_order]\n",
    "y = y[shuffle_order]"
   ]
  },
  {
   "cell_type": "code",
   "execution_count": 7,
   "metadata": {},
   "outputs": [
    {
     "data": {
      "text/plain": [
       "'\\nThay doi kich thuoc cua data:\\n    Tu 1 mang numpy kich thuoc la [train_x.shape[0], 784] ->[train_x.shape[0], 28, 28]\\n    voi train_x.shape[0] la so bo data de training\\n'"
      ]
     },
     "execution_count": 7,
     "metadata": {},
     "output_type": "execute_result"
    }
   ],
   "source": [
    "# Hàm train_test_plit trả về các numpy, với tham số truyền vào là mảng numpy, dataframe. tham số thứ\n",
    "# 2 là kích thước của tập test( 0.2 <=> 20% data hiện có)\n",
    "# Việc tách dữ liệu hoàn toàn là ngẫu nhiên\n",
    "train_x, test_x, train_y, test_y = train_test_split(X, y, test_size=0.2)\n",
    "train_x, val_x, train_y, val_y = train_test_split(train_x, train_y, test_size=0.2)\n",
    "\"\"\"\n",
    "Thay doi kich thuoc cua data:\n",
    "    Tu 1 mang numpy kich thuoc la [train_x.shape[0], 784] ->[train_x.shape[0], 28, 28]\n",
    "    voi train_x.shape[0] la so bo data de training\n",
    "\"\"\"\n",
    "#khi training dùng bộ training\n",
    "#val để đánh giá độ chính tăng hay giảm đi\n",
    "#test: \n",
    "\n"
   ]
  },
  {
   "cell_type": "code",
   "execution_count": 8,
   "metadata": {},
   "outputs": [
    {
     "name": "stdout",
     "output_type": "stream",
     "text": [
      "(238368, 784) (74490, 784) (59592, 784)\n"
     ]
    }
   ],
   "source": [
    "print(train_x.shape, test_x.shape, val_x.shape)"
   ]
  },
  {
   "cell_type": "code",
   "execution_count": 9,
   "metadata": {},
   "outputs": [],
   "source": [
    "word_dict= {0:'A',1:'B',2:'C',3:'D',4:'E',5:'F',6:'G',7:'H',8:'I',9:'J',\n",
    "            10:'K',11:'L',12:'M',13:'N',14:'O',15:'P',16:'Q',17:'R',18:'S',19:'T',\n",
    "            20:'U',21:'V',22:'W',23:'X', 24:'Y',25:'Z'}"
   ]
  },
  {
   "cell_type": "code",
   "execution_count": 10,
   "metadata": {},
   "outputs": [
    {
     "data": {
      "image/png": "[encoded data removed]",
      "text/plain": [
       "<Figure size 1000x500 with 1 Axes>"
      ]
     },
     "metadata": {},
     "output_type": "display_data"
    }
   ],
   "source": [
    "\n",
    "\n",
    "# dictx ={'a' : 10,\n",
    "#         'b' : 12,\n",
    "#         'c' : 10}\n",
    "# a = ['a', 'c', 'b']\n",
    "# b=[1,2,3]\n",
    "\n",
    "# ax.bar(a, b, color='red')\n",
    "\n",
    "count = np.zeros(26, dtype='int')\n",
    "for i in y:\n",
    "    count[int(i)] += 1\n",
    "\n",
    "    alphabets = []\n",
    "    for i in word_dict.values():\n",
    "        alphabets.append(i)\n",
    "\n",
    "fig, ax = plt.subplots(figsize=(10, 5))\n",
    "ax.bar(alphabets, count, color='green')\n",
    "\n",
    "ax.set(title='Tần suất các chữ cái trong dữ liệu', xlabel='Alphabets', ylabel='Quantity of elementS')\n",
    "plt.grid()\n",
    "plt.show()"
   ]
  },
  {
   "cell_type": "code",
   "execution_count": 11,
   "metadata": {},
   "outputs": [
    {
     "name": "stdout",
     "output_type": "stream",
     "text": [
      "C\n",
      "(28, 28)\n"
     ]
    },
    {
     "data": {
      "text/plain": [
       "<matplotlib.image.AxesImage at 0x1d6dbae7350>"
      ]
     },
     "execution_count": 11,
     "metadata": {},
     "output_type": "execute_result"
    },
    {
     "data": {
      "image/png": "[encoded data removed]",
      "text/plain": [
       "<Figure size 640x480 with 1 Axes>"
      ]
     },
     "metadata": {},
     "output_type": "display_data"
    }
   ],
   "source": [
    "examp = np.reshape(train_x[0],(28,28))\n",
    "print(word_dict[train_y[0]])\n",
    "print(examp.shape)\n",
    "plt.imshow(examp)"
   ]
  },
  {
   "cell_type": "code",
   "execution_count": 12,
   "metadata": {},
   "outputs": [
    {
     "name": "stdout",
     "output_type": "stream",
     "text": [
      "the new shape:\n",
      " (238368, 28, 28, 1) (74490, 28, 28, 1) (59592, 28, 28, 1)\n"
     ]
    }
   ],
   "source": [
    "# Reshaping the train & set dataset to put in model\n",
    "train_x = train_x.reshape(train_x.shape[0],28,28,1)\n",
    "\n",
    "test_x = test_x.reshape(test_x.shape[0], 28, 28,1)\n",
    "\n",
    "val_x = val_x.reshape(val_x.shape[0], 28, 28,1)\n",
    "\n",
    "print('the new shape:\\n',train_x.shape, test_x.shape, val_x.shape)"
   ]
  },
  {
   "cell_type": "code",
   "execution_count": 13,
   "metadata": {},
   "outputs": [
    {
     "name": "stdout",
     "output_type": "stream",
     "text": [
      "the new shape\n",
      " (238368, 26) (74490, 26) (59592, 26)\n",
      "4.0\n"
     ]
    }
   ],
   "source": [
    "# Ma hoa ve dang one hot\n",
    "train_y_OHot = to_categorical(train_y, num_classes = 26, dtype='int')\n",
    "\n",
    "test_y_OHot = to_categorical(test_y, num_classes = 26, dtype='int')\n",
    "\n",
    "val_y_OHot = to_categorical(val_y, num_classes=26, dtype='int')\n",
    "\n",
    "print('the new shape\\n', train_y_OHot.shape, test_y_OHot.shape, val_y_OHot.shape)\n",
    "print(test_y[0])"
   ]
  },
  {
   "cell_type": "code",
   "execution_count": 14,
   "metadata": {},
   "outputs": [],
   "source": [
    "# Create model\n",
    "model = Sequential()\n",
    "\n",
    "model.add(Conv2D(32, (3,3), activation = 'relu', padding='same',input_shape = (28, 28, 1)))\n",
    "model.add(Conv2D(32, (3,3), activation = 'relu', padding='same'))\n",
    "model.add(MaxPool2D(pool_size=(2,2)))\n",
    "\n",
    "model.add(Conv2D(64, (3,3), activation = 'relu', padding='same'))\n",
    "model.add(Conv2D(64, (3,3), activation = 'relu', padding='same'))\n",
    "model.add(MaxPool2D(pool_size=(2,2)))\n",
    "\n",
    "\n",
    "model.add(Flatten())\n",
    "model.add(Dense(512, activation='relu'))\n",
    "model.add(Dense(128, activation='relu'))\n",
    "model.add(Dense(26, activation='softmax'))"
   ]
  },
  {
   "cell_type": "code",
   "execution_count": 15,
   "metadata": {},
   "outputs": [
    {
     "name": "stdout",
     "output_type": "stream",
     "text": [
      "Model: \"sequential\"\n",
      "_________________________________________________________________\n",
      " Layer (type)                Output Shape              Param #   \n",
      "=================================================================\n",
      " conv2d (Conv2D)             (None, 28, 28, 32)        320       \n",
      "                                                                 \n",
      " conv2d_1 (Conv2D)           (None, 28, 28, 32)        9248      \n",
      "                                                                 \n",
      " max_pooling2d (MaxPooling2  (None, 14, 14, 32)        0         \n",
      " D)                                                              \n",
      "                                                                 \n",
      " conv2d_2 (Conv2D)           (None, 14, 14, 64)        18496     \n",
      "                                                                 \n",
      " conv2d_3 (Conv2D)           (None, 14, 14, 64)        36928     \n",
      "                                                                 \n",
      " max_pooling2d_1 (MaxPoolin  (None, 7, 7, 64)          0         \n",
      " g2D)                                                            \n",
      "                                                                 \n",
      " flatten (Flatten)           (None, 3136)              0         \n",
      "                                                                 \n",
      " dense (Dense)               (None, 512)               1606144   \n",
      "                                                                 \n",
      " dense_1 (Dense)             (None, 128)               65664     \n",
      "                                                                 \n",
      " dense_2 (Dense)             (None, 26)                3354      \n",
      "                                                                 \n",
      "=================================================================\n",
      "Total params: 1740154 (6.64 MB)\n",
      "Trainable params: 1740154 (6.64 MB)\n",
      "Non-trainable params: 0 (0.00 Byte)\n",
      "_________________________________________________________________\n"
     ]
    }
   ],
   "source": [
    "model.summary()"
   ]
  },
  {
   "cell_type": "code",
   "execution_count": 16,
   "metadata": {},
   "outputs": [],
   "source": [
    "# compile − Định cấu hình quá trình học tập của mô hình\n",
    "# fit − Đào tạo mô hình bằng cách sử dụng dữ liệu đào tạo\n",
    "# evaluate − Đánh giá mô hình bằng cách sử dụng dữ liệu test\n",
    "# predict − Dự đoán kết quả với dữ liệu đầu vào mới\n",
    "\n",
    "# Các tham số trong hàm Compile:\n",
    "\"\"\"\n",
    "Loss: Trong học máy, hàm Loss được sử dụng để tìm lỗi hoặc sai lệch trong quá trình học. Keras yêu cầu hàm mất trong quá trình biên dịch mô hình.\n",
    "Optimizer (Tối ưu):  Tối ưu hóa là một quá trình quan trọng nhằm tối ưu các trọng số đầu vào bằng cách so sánh dự đoán và hàm mất mát. \n",
    "    Keras cung cấp khá nhiều trình tối ưu hóa dưới dạng mô-đun, các trình tối ưu hóa và chúng như sau:\n",
    "    keras.optimizers.Adam(\n",
    "        learning_rate = 0.001, beta_1 = 0.9, beta_2 = 0.999, amsgrad = False\n",
    "    )\n",
    "Metrics: \n",
    "    Phương pháp đánh giá hệ thống phân lớp này là 'accuracy', tức số lượng điểm được phân loại đúng trong toàn bộ số điểm.\n",
    "\"\"\"\n",
    "model.compile(optimizer=Adam(learning_rate=0.001),\n",
    "             loss='categorical_crossentropy',\n",
    "             metrics=['accuracy'])"
   ]
  },
  {
   "cell_type": "code",
   "execution_count": 17,
   "metadata": {},
   "outputs": [
    {
     "name": "stdout",
     "output_type": "stream",
     "text": [
      "Epoch 1/10\n",
      "7449/7449 [==============================] - 430s 58ms/step - loss: 0.1095 - accuracy: 0.9693 - val_loss: 0.0657 - val_accuracy: 0.9816\n",
      "Epoch 2/10\n",
      "7449/7449 [==============================] - 567s 76ms/step - loss: 0.0451 - accuracy: 0.9871 - val_loss: 0.0542 - val_accuracy: 0.9857\n",
      "Epoch 3/10\n",
      "7449/7449 [==============================] - 700s 94ms/step - loss: 0.0320 - accuracy: 0.9906 - val_loss: 0.0407 - val_accuracy: 0.9899\n",
      "Epoch 4/10\n",
      "7449/7449 [==============================] - 611s 82ms/step - loss: 0.0247 - accuracy: 0.9924 - val_loss: 0.0454 - val_accuracy: 0.9895\n",
      "Epoch 5/10\n",
      "7449/7449 [==============================] - 540s 73ms/step - loss: 0.0193 - accuracy: 0.9941 - val_loss: 0.0424 - val_accuracy: 0.9913\n",
      "Epoch 6/10\n",
      "7449/7449 [==============================] - 614s 82ms/step - loss: 0.0175 - accuracy: 0.9947 - val_loss: 0.0442 - val_accuracy: 0.9902\n",
      "Epoch 7/10\n",
      "7449/7449 [==============================] - 680s 91ms/step - loss: 0.0155 - accuracy: 0.9954 - val_loss: 0.0466 - val_accuracy: 0.9915\n",
      "Epoch 8/10\n",
      "7449/7449 [==============================] - 600s 81ms/step - loss: 0.0145 - accuracy: 0.9958 - val_loss: 0.0517 - val_accuracy: 0.9909\n",
      "Epoch 9/10\n",
      "7449/7449 [==============================] - 590s 79ms/step - loss: 0.0135 - accuracy: 0.9962 - val_loss: 0.0481 - val_accuracy: 0.9914\n",
      "Epoch 10/10\n",
      "7449/7449 [==============================] - 692s 93ms/step - loss: 0.0132 - accuracy: 0.9965 - val_loss: 0.0588 - val_accuracy: 0.9903\n"
     ]
    }
   ],
   "source": [
    "\n",
    "\"\"\"\n",
    "\"\"\"\n",
    "log_dir = \"logs/fit/\" + datetime.datetime.now().strftime(\"%Y%m%d-%H%M%S\")\n",
    "tensorboard_callback =tensorflow.keras.callbacks.TensorBoard(log_dir=log_dir, histogram_freq=1)\n",
    "\n",
    "history = model.fit(train_x, train_y_OHot, epochs=10, validation_data=(val_x, val_y_OHot), callbacks=[tensorboard_callback])"
   ]
  },
  {
   "cell_type": "code",
   "execution_count": 18,
   "metadata": {},
   "outputs": [
    {
     "name": "stdout",
     "output_type": "stream",
     "text": [
      "The validation accuracy is : [0.9816418290138245, 0.9857027530670166, 0.9899315237998962, 0.989512026309967, 0.9913075566291809, 0.9901832342147827, 0.9915257096290588, 0.9909216165542603, 0.9914082288742065, 0.9902671575546265]\n",
      "The training accuracy is : [0.9692911505699158, 0.9870620369911194, 0.9906237125396729, 0.9923983216285706, 0.9940512180328369, 0.994709849357605, 0.995414674282074, 0.9958299994468689, 0.9961655735969543, 0.9965053796768188]\n",
      "The validation loss is : [0.0657198503613472, 0.0541568398475647, 0.04066936671733856, 0.04536107927560806, 0.042388029396533966, 0.04422134906053543, 0.046557020395994186, 0.05172518268227577, 0.048136644065380096, 0.05882982537150383]\n",
      "The training loss is : [0.10946128517389297, 0.045089781284332275, 0.031962618231773376, 0.024747882038354874, 0.019297854974865913, 0.01748201996088028, 0.015470191836357117, 0.014451978728175163, 0.013499983586370945, 0.013218801468610764]\n"
     ]
    }
   ],
   "source": [
    "print(\"The validation accuracy is :\", history.history['val_accuracy'])\n",
    "print(\"The training accuracy is :\", history.history['accuracy'])\n",
    "print(\"The validation loss is :\", history.history['val_loss'])\n",
    "print(\"The training loss is :\", history.history['loss'])"
   ]
  },
  {
   "cell_type": "code",
   "execution_count": 19,
   "metadata": {},
   "outputs": [
    {
     "name": "stderr",
     "output_type": "stream",
     "text": [
      "c:\\Users\\DELL\\AppData\\Local\\Programs\\Python\\Python311\\Lib\\site-packages\\keras\\src\\engine\\training.py:3000: UserWarning: You are saving your model as an HDF5 file via `model.save()`. This file format is considered legacy. We recommend using instead the native Keras format, e.g. `model.save('my_model.keras')`.\n",
      "  saving_api.save_model(\n"
     ]
    }
   ],
   "source": [
    "model.save('MyModel_With10Epochs2.h5')"
   ]
  },
  {
   "cell_type": "code",
   "execution_count": 20,
   "metadata": {},
   "outputs": [],
   "source": [
    "model = tensorflow.keras.models.load_model('Mymodel_With10Epochs2.h5')"
   ]
  },
  {
   "cell_type": "code",
   "execution_count": 21,
   "metadata": {},
   "outputs": [
    {
     "name": "stdout",
     "output_type": "stream",
     "text": [
      "2328/2328 [==============================] - 55s 23ms/step - loss: 0.0516 - accuracy: 0.9907\n",
      "[0.05162589251995087, 0.9906833171844482]\n"
     ]
    }
   ],
   "source": [
    "# Đánh giá là một quá trình trong quá trình phát triển mô hình để kiểm tra xem liệu mô hình có phù hợp nhất với vấn đề đã cho \n",
    "    #và dữ liệu tương ứng hay không. Keras cung cấp chức năng, đánh giá mà không đánh giá của mô hình. Nó có ba đối số chính,\n",
    "# Test data\n",
    "# Test data label\n",
    "scores = model.evaluate(test_x, test_y_OHot)\n",
    "print(scores)"
   ]
  },
  {
   "cell_type": "code",
   "execution_count": 22,
   "metadata": {},
   "outputs": [
    {
     "data": {
      "image/png": "[encoded data removed]",
      "text/plain": [
       "<Figure size 800x900 with 9 Axes>"
      ]
     },
     "metadata": {},
     "output_type": "display_data"
    }
   ],
   "source": [
    "# Predict some test data\n",
    "fig, axes = plt.subplots(3, 3, figsize=(8,9))\n",
    "axes = axes.flatten()\n",
    "\n",
    "for i, ax in enumerate(axes):\n",
    "    img = np.reshape(test_x[i], (28, 28))\n",
    "    ax.imshow(img, cmap=\"Greys\")\n",
    "    \n",
    "    pred = word_dict[np.argmax(test_y_OHot[i])]\n",
    "    ax.set_title(\"Prediction: \" + pred)\n",
    "    ax.grid()"
   ]
  },
  {
   "cell_type": "code",
   "execution_count": 28,
   "metadata": {},
   "outputs": [
    {
     "name": "stdout",
     "output_type": "stream",
     "text": [
      "1/1 [==============================] - 0s 30ms/step\n"
     ]
    },
    {
     "data": {
      "text/plain": [
       "'D'"
      ]
     },
     "execution_count": 28,
     "metadata": {},
     "output_type": "execute_result"
    }
   ],
   "source": [
    "# prediction on external image\n",
    "img = cv2.imread('E:\\CODE\\BTL\\imgTest/o.png', 1)\n",
    "img_copy = img.copy()\n",
    "\n",
    "img = cv2.cvtColor(img, cv2.COLOR_BGR2RGB)\n",
    "img = cv2.resize(img, (400, 400))\n",
    "\n",
    "img_copy = cv2.GaussianBlur(img_copy, (7,7), 0)\n",
    "img_gray = cv2.cvtColor(img_copy, cv2.COLOR_BGR2GRAY)\n",
    "_, img_thresh = cv2.threshold(img_gray, 100, 255, cv2.THRESH_BINARY_INV)\n",
    "\n",
    "img_final = cv2.resize(img_thresh, (28, 28))\n",
    "img_final = np.reshape(img_final, (1, 28, 28, 1))\n",
    "\n",
    "img_pred = word_dict[np.argmax(model.predict(img_final))]\n",
    "\n",
    "\n",
    "# cv2.putText(img, \"Prediction: \" + img_pred, (20, 410), cv2.FONT_HERSHEY_DUPLEX, 1.3, (255, 0, 30))\n",
    "# cv2.imshow(\"result\", img)\n",
    "\n",
    "img_pred"
   ]
  }
 ],
 "metadata": {
  "kernelspec": {
   "display_name": "Python 3",
   "language": "python",
   "name": "python3"
  },
  "language_info": {
   "codemirror_mode": {
    "name": "ipython",
    "version": 3
   },
   "file_extension": ".py",
   "mimetype": "text/x-python",
   "name": "python",
   "nbconvert_exporter": "python",
   "pygments_lexer": "ipython3",
   "version": "3.11.4"
  },
  "orig_nbformat": 4
 },
 "nbformat": 4,
 "nbformat_minor": 2
}
